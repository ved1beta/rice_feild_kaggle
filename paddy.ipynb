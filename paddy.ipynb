{
 "cells": [
  {
   "cell_type": "code",
   "execution_count": 1,
   "id": "a2018c21-d8ba-4b22-9203-2ab5c5cb8abd",
   "metadata": {},
   "outputs": [],
   "source": [
    "from fastai.vision.all import *"
   ]
  },
  {
   "cell_type": "code",
   "execution_count": 5,
   "id": "e5ca3226-49b9-4dcc-b88a-1e16143c5e19",
   "metadata": {},
   "outputs": [],
   "source": [
    "path =Path()\n"
   ]
  },
  {
   "cell_type": "code",
   "execution_count": 7,
   "id": "8383b2b9-acef-4906-8227-400c5022613b",
   "metadata": {},
   "outputs": [
    {
     "data": {
      "text/plain": [
       "(#5) [Path('.git'),Path('README.md'),Path('.ipynb_checkpoints'),Path('paddy.ipynb'),Path('paddy')]"
      ]
     },
     "execution_count": 7,
     "metadata": {},
     "output_type": "execute_result"
    }
   ],
   "source": [
    "path.ls()"
   ]
  },
  {
   "cell_type": "code",
   "execution_count": null,
   "id": "b6ba76d3-186f-4932-a9cf-700c7f2fd350",
   "metadata": {},
   "outputs": [],
   "source": []
  }
 ],
 "metadata": {
  "kernelspec": {
   "display_name": "Python 3 (ipykernel)",
   "language": "python",
   "name": "python3"
  },
  "language_info": {
   "codemirror_mode": {
    "name": "ipython",
    "version": 3
   },
   "file_extension": ".py",
   "mimetype": "text/x-python",
   "name": "python",
   "nbconvert_exporter": "python",
   "pygments_lexer": "ipython3",
   "version": "3.10.13"
  }
 },
 "nbformat": 4,
 "nbformat_minor": 5
}
